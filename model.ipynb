{
 "cells": [
  {
   "cell_type": "code",
   "execution_count": 11,
   "id": "9505388f",
   "metadata": {},
   "outputs": [
    {
     "name": "stdout",
     "output_type": "stream",
     "text": [
      "(395, 33)\n",
      "Index(['school', 'sex', 'age', 'address', 'famsize', 'Pstatus', 'Medu', 'Fedu',\n",
      "       'Mjob', 'Fjob', 'reason', 'guardian', 'traveltime', 'studytime',\n",
      "       'failures', 'schoolsup', 'famsup', 'paid', 'activities', 'nursery',\n",
      "       'higher', 'internet', 'romantic', 'famrel', 'freetime', 'goout', 'Dalc',\n",
      "       'Walc', 'health', 'absences', 'G1', 'G2', 'G3'],\n",
      "      dtype='object')\n",
      "  school sex  age address famsize Pstatus  Medu  Fedu     Mjob      Fjob  ...  \\\n",
      "0     GP   F   18       U     GT3       A     4     4  at_home   teacher  ...   \n",
      "1     GP   F   17       U     GT3       T     1     1  at_home     other  ...   \n",
      "2     GP   F   15       U     LE3       T     1     1  at_home     other  ...   \n",
      "3     GP   F   15       U     GT3       T     4     2   health  services  ...   \n",
      "4     GP   F   16       U     GT3       T     3     3    other     other  ...   \n",
      "\n",
      "  famrel freetime  goout  Dalc  Walc health absences  G1  G2  G3  \n",
      "0      4        3      4     1     1      3        6   5   6   6  \n",
      "1      5        3      3     1     1      3        4   5   5   6  \n",
      "2      4        3      2     2     3      3       10   7   8  10  \n",
      "3      3        2      2     1     1      5        2  15  14  15  \n",
      "4      4        3      2     1     2      5        4   6  10  10  \n",
      "\n",
      "[5 rows x 33 columns]\n",
      "First row of X as list of values:\n",
      "[18, 4, 4, 2, 2, 0, 4, 3, 4, 1, 1, 3, 6, 5, 6, 0, 0, 1, 0, 0, 0, 0, 0, 0, 0, 0, 0, 1, 0, 0, 0, 1, 0, 1, 0, 0, 0, 1, 1, 0, 0]\n",
      "MSE: 5.66\n",
      "R2 Score: 0.72\n"
     ]
    },
    {
     "data": {
      "image/png": "[encoded data removed]",
      "text/plain": [
       "<Figure size 576x360 with 1 Axes>"
      ]
     },
     "metadata": {
      "needs_background": "light"
     },
     "output_type": "display_data"
    },
    {
     "name": "stdout",
     "output_type": "stream",
     "text": [
      "🎓 Predicted Final Grade (G3): 6.14\n"
     ]
    },
    {
     "name": "stderr",
     "output_type": "stream",
     "text": [
      "/home/vineet/anaconda3/lib/python3.9/site-packages/sklearn/base.py:493: UserWarning: X does not have valid feature names, but LinearRegression was fitted with feature names\n",
      "  warnings.warn(\n"
     ]
    }
   ],
   "source": [
    "# Student Performance Predictor\n",
    "\n",
    "# Step 1: Import Libraries\n",
    "import pandas as pd\n",
    "import numpy as np\n",
    "import matplotlib.pyplot as plt\n",
    "import seaborn as sns\n",
    "from sklearn.model_selection import train_test_split\n",
    "from sklearn.linear_model import LinearRegression\n",
    "from sklearn.metrics import mean_squared_error, r2_score\n",
    "\n",
    "# Step 2: Load Dataset (UCI student-mat.csv)\n",
    "df = pd.read_csv(\"student-mat.csv\", sep=';')\n",
    "\n",
    "# Step 3: Initial Exploration\n",
    "print(df.shape)\n",
    "print(df.columns)\n",
    "print(df.head())\n",
    "\n",
    "# Step 4: Data Preprocessing\n",
    "# Convert categorical variables to numeric using one-hot encoding\n",
    "df_encoded = pd.get_dummies(df, drop_first=True)\n",
    "\n",
    "# Step 5: Feature Selection\n",
    "# Target variable (y): Final Grade G3\n",
    "# Predictors (X): Drop G3 from X\n",
    "X = df_encoded.drop([\"G3\"], axis=1)\n",
    "y = df_encoded[\"G3\"]\n",
    "\n",
    "first_row_values = X.iloc[0].tolist()\n",
    "print(\"First row of X as list of values:\")\n",
    "print(first_row_values)\n",
    "\n",
    "# Step 6: Train-Test Split\n",
    "X_train, X_test, y_train, y_test = train_test_split(X, y, test_size=0.2, random_state=42)\n",
    "\n",
    "# Step 7: Model Training\n",
    "model = LinearRegression()\n",
    "model.fit(X_train, y_train)\n",
    "\n",
    "# Step 8: Predictions\n",
    "y_pred = model.predict(X_test)\n",
    "\n",
    "# Step 9: Evaluation\n",
    "mse = mean_squared_error(y_test, y_pred)\n",
    "r2 = r2_score(y_test, y_pred)\n",
    "print(f\"MSE: {mse:.2f}\")\n",
    "print(f\"R2 Score: {r2:.2f}\")\n",
    "\n",
    "# Step 10: Visualization (Actual vs Predicted)\n",
    "plt.figure(figsize=(8, 5))\n",
    "plt.scatter(y_test, y_pred, alpha=0.7)\n",
    "plt.xlabel(\"Actual G3\")\n",
    "plt.ylabel(\"Predicted G3\")\n",
    "plt.title(\"Actual vs Predicted Student Performance\")\n",
    "plt.grid()\n",
    "plt.show()\n",
    "# Replace with actual values in same order as df_encoded.columns (excluding G3)\n",
    "custom_input = np.array([16, 4, 3, 2, 2, 0, 4, 3, 4, 1, 1, 3, 6, 5, 6, 1, 0, 1, 0, 0, 0, 1, 0, 0, 0, 0, 0, 1, 0, 0, 0, 1, 0, 1, 0, 0, 0, 1, 1, 0, 0])  # Example values matching number of features\n",
    "custom_input = custom_input.reshape(1, -1)\n",
    "\n",
    "predicted_g3 = model.predict(custom_input)\n",
    "print(\"🎓 Predicted Final Grade (G3):\", round(predicted_g3[0], 2))\n",
    "\n",
    "\n",
    "# Step 11: Save model\n",
    "import pickle\n",
    "with open(\"student_model.pkl\", \"wb\") as f:\n",
    "    pickle.dump(model, f)\n",
    "\n",
    "# Done ✅\n",
    "# Next Steps:\n",
    "# - Streamlit UI\n",
    "# - GitHub repo upload\n",
    "# - Optional: Gradio interface or deploy on Hugging Face\n"
   ]
  },
  {
   "cell_type": "code",
   "execution_count": null,
   "id": "e49a33e6",
   "metadata": {},
   "outputs": [],
   "source": []
  }
 ],
 "metadata": {
  "kernelspec": {
   "display_name": "Python 3 (ipykernel)",
   "language": "python",
   "name": "python3"
  },
  "language_info": {
   "codemirror_mode": {
    "name": "ipython",
    "version": 3
   },
   "file_extension": ".py",
   "mimetype": "text/x-python",
   "name": "python",
   "nbconvert_exporter": "python",
   "pygments_lexer": "ipython3",
   "version": "3.9.12"
  }
 },
 "nbformat": 4,
 "nbformat_minor": 5
}
